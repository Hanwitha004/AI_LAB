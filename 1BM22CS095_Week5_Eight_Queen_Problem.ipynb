{
  "nbformat": 4,
  "nbformat_minor": 0,
  "metadata": {
    "colab": {
      "name": "1BM22CS095_Week5_Eight Queen Problem.ipynb",
      "provenance": []
    },
    "kernelspec": {
      "name": "python3",
      "display_name": "Python 3"
    }
  },
  "cells": [
    {
      "cell_type": "code",
      "metadata": {
        "id": "6DK2AYAXXiqn",
        "colab": {
          "base_uri": "https://localhost:8080/"
        },
        "outputId": "df92c98f-7cf0-49cc-db56-c894b4abd2eb"
      },
      "source": [
        "import numpy as np\n",
        "import random\n",
        "import math\n",
        "\n",
        "# Defining the objective function\n",
        "def queens_max(position):\n",
        "    no_attack_on_j = 0\n",
        "    queen_not_attacking = 0\n",
        "    for i in range(len(position) - 1):\n",
        "        no_attack_on_j = 0\n",
        "        for j in range(i + 1, len(position)):\n",
        "            # Check if there is any diagonal or horizontal attack\n",
        "            if (position[j] != position[i]) and (position[j] != position[i] + (j - i)) and (position[j] != position[i] - (j - i)):\n",
        "                no_attack_on_j += 1\n",
        "                if no_attack_on_j == len(position) - 1 - i:\n",
        "                    queen_not_attacking += 1\n",
        "    if queen_not_attacking == 7:\n",
        "        queen_not_attacking += 1\n",
        "    return queen_not_attacking\n",
        "\n",
        "# Simulated Annealing Implementation\n",
        "def simulated_annealing(problem_size, initial_state, max_attempts, max_iters, schedule):\n",
        "    current_state = initial_state\n",
        "    current_fitness = queens_max(current_state)\n",
        "    best_state = np.copy(current_state)\n",
        "    best_fitness = current_fitness\n",
        "\n",
        "    for iteration in range(max_iters):\n",
        "        # Temperature Decay\n",
        "        T = schedule(iteration)\n",
        "\n",
        "        # Generate a neighbor solution by randomly selecting a queen and changing its position\n",
        "        neighbor_state = np.copy(current_state)\n",
        "        queen_to_move = random.randint(0, problem_size - 1)\n",
        "        new_position = random.randint(0, problem_size - 1)\n",
        "        while new_position == current_state[queen_to_move]:\n",
        "            new_position = random.randint(0, problem_size - 1)\n",
        "        neighbor_state[queen_to_move] = new_position\n",
        "\n",
        "        # Calculate the fitness of the neighbor\n",
        "        neighbor_fitness = queens_max(neighbor_state)\n",
        "\n",
        "        # Decide whether to move to the neighbor state\n",
        "        if neighbor_fitness > current_fitness:\n",
        "            current_state = np.copy(neighbor_state)\n",
        "            current_fitness = neighbor_fitness\n",
        "            if current_fitness > best_fitness:\n",
        "                best_state = np.copy(current_state)\n",
        "                best_fitness = current_fitness\n",
        "        else:\n",
        "            # Acceptance probability (Metropolis criterion)\n",
        "            delta_fitness = neighbor_fitness - current_fitness\n",
        "            acceptance_prob = math.exp(delta_fitness / T)\n",
        "            if random.random() < acceptance_prob:\n",
        "                current_state = np.copy(neighbor_state)\n",
        "                current_fitness = neighbor_fitness\n",
        "\n",
        "        # Terminate early if we've reached a solution\n",
        "        if best_fitness == problem_size:\n",
        "            break\n",
        "\n",
        "    return best_state, best_fitness\n",
        "\n",
        "# Decay schedule function\n",
        "def exp_decay(iteration, decay_rate=0.005, min_temp=0.1):\n",
        "    return max(min_temp, math.exp(-decay_rate * iteration))\n",
        "\n",
        "# Problem parameters\n",
        "problem_size = 8\n",
        "initial_position = np.array([4, 6, 1, 5, 2, 0, 3, 7])  # Initial state (random)\n",
        "max_attempts = 500\n",
        "max_iters = 5000\n",
        "\n",
        "# Solve the problem using Simulated Annealing\n",
        "best_position, best_objective = simulated_annealing(problem_size, initial_position, max_attempts, max_iters, exp_decay)\n",
        "\n",
        "print('The best position found is: ', best_position)\n",
        "print('The number of queens that are not attacking each other is: ', best_objective)\n"
      ],
      "execution_count": null,
      "outputs": [
        {
          "output_type": "stream",
          "name": "stdout",
          "text": [
            "The best position found is:  [4 6 1 5 2 0 3 7]\n",
            "The number of queens that are not attacking each other is:  8\n"
          ]
        }
      ]
    }
  ]
}