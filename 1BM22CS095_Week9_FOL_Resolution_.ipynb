{
  "nbformat": 4,
  "nbformat_minor": 0,
  "metadata": {
    "colab": {
      "provenance": []
    },
    "kernelspec": {
      "name": "python3",
      "display_name": "Python 3"
    },
    "language_info": {
      "name": "python"
    }
  },
  "cells": [
    {
      "cell_type": "code",
      "execution_count": 2,
      "metadata": {
        "colab": {
          "base_uri": "https://localhost:8080/"
        },
        "id": "WZs3aWTXUhbb",
        "outputId": "8ee1c280-732b-4696-d3f8-ebcc54e04091"
      },
      "outputs": [
        {
          "output_type": "stream",
          "name": "stdout",
          "text": [
            "Proven: John likes peanuts.\n"
          ]
        }
      ],
      "source": [
        "\n",
        "\n",
        "from pyswip import Prolog\n",
        "\n",
        "# Initialize Prolog engine\n",
        "prolog = Prolog()\n",
        "\n",
        "# Knowledge base\n",
        "# a. If something is food, John likes it\n",
        "prolog.assertz(\"likes(john, X) :- food(X)\")\n",
        "\n",
        "# b. Apple and vegetables are food\n",
        "prolog.assertz(\"food(apple)\")\n",
        "prolog.assertz(\"food(vegetables)\")\n",
        "\n",
        "# c. Anything someone eats and is not killed is food\n",
        "prolog.assertz(\"food(Z) :- eats(Y, Z), not_killed(Y)\")\n",
        "\n",
        "# d. Anil eats peanuts\n",
        "prolog.assertz(\"eats(anil, peanuts)\")\n",
        "\n",
        "# e. Anil is alive\n",
        "prolog.assertz(\"alive(anil)\")\n",
        "\n",
        "# f. If someone is alive, they are not killed\n",
        "prolog.assertz(\"not_killed(X) :- alive(X)\")\n",
        "\n",
        "# Query to prove: John likes peanuts\n",
        "query = \"likes(john, peanuts)\"\n",
        "\n",
        "# Check if the query can be proven\n",
        "result = list(prolog.query(query))\n",
        "\n",
        "# Output the result\n",
        "if result:\n",
        "    print(\"Proven: John likes peanuts.\")\n",
        "else:\n",
        "    print(\"Cannot prove that John likes peanuts.\")\n"
      ]
    }
  ]
}